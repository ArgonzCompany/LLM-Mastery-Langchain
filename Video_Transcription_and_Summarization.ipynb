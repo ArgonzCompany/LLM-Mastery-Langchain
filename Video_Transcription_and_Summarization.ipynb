{
  "nbformat": 4,
  "nbformat_minor": 0,
  "metadata": {
    "colab": {
      "provenance": [],
      "gpuType": "T4"
    },
    "kernelspec": {
      "name": "python3",
      "display_name": "Python 3"
    },
    "language_info": {
      "name": "python"
    },
    "accelerator": "GPU"
  },
  "cells": [
    {
      "cell_type": "code",
      "execution_count": 1,
      "metadata": {
        "id": "nPQguxAiSKyV",
        "colab": {
          "base_uri": "https://localhost:8080/"
        },
        "outputId": "5bdb01e6-c71d-4bff-e3c3-bbd8f3d23c92"
      },
      "outputs": [
        {
          "output_type": "stream",
          "name": "stdout",
          "text": [
            "\u001b[2K   \u001b[90m━━━━━━━━━━━━━━━━━━━━━━━━━━━━━━━━━━━━━━━━\u001b[0m \u001b[32m69.1/69.1 MB\u001b[0m \u001b[31m10.5 MB/s\u001b[0m eta \u001b[36m0:00:00\u001b[0m\n",
            "\u001b[2K   \u001b[90m━━━━━━━━━━━━━━━━━━━━━━━━━━━━━━━━━━━━━━━━\u001b[0m \u001b[32m2.5/2.5 MB\u001b[0m \u001b[31m47.3 MB/s\u001b[0m eta \u001b[36m0:00:00\u001b[0m\n",
            "\u001b[2K   \u001b[90m━━━━━━━━━━━━━━━━━━━━━━━━━━━━━━━━━━━━━━━━\u001b[0m \u001b[32m1.0/1.0 MB\u001b[0m \u001b[31m34.1 MB/s\u001b[0m eta \u001b[36m0:00:00\u001b[0m\n",
            "\u001b[2K   \u001b[90m━━━━━━━━━━━━━━━━━━━━━━━━━━━━━━━━━━━━━━━━\u001b[0m \u001b[32m411.6/411.6 kB\u001b[0m \u001b[31m26.5 MB/s\u001b[0m eta \u001b[36m0:00:00\u001b[0m\n",
            "\u001b[2K   \u001b[90m━━━━━━━━━━━━━━━━━━━━━━━━━━━━━━━━━━━━━━━━\u001b[0m \u001b[32m49.3/49.3 kB\u001b[0m \u001b[31m3.1 MB/s\u001b[0m eta \u001b[36m0:00:00\u001b[0m\n",
            "\u001b[?25h"
          ]
        }
      ],
      "source": [
        "!pip install -q transformers einops accelerate bitsandbytes\n",
        "!pip install -q langchain langchain_community langchain-huggingface"
      ]
    },
    {
      "cell_type": "markdown",
      "source": [
        "**Installing libraries for transcript download**"
      ],
      "metadata": {
        "id": "_VFHIYbcjDj9"
      }
    },
    {
      "cell_type": "code",
      "source": [
        "!pip install youtube-transcript-api"
      ],
      "metadata": {
        "id": "htVN_CqFS7zv",
        "colab": {
          "base_uri": "https://localhost:8080/"
        },
        "outputId": "b628ff03-de35-4900-c2eb-caf6535e160d"
      },
      "execution_count": 2,
      "outputs": [
        {
          "output_type": "stream",
          "name": "stdout",
          "text": [
            "Collecting youtube-transcript-api\n",
            "  Downloading youtube_transcript_api-0.6.3-py3-none-any.whl.metadata (17 kB)\n",
            "Requirement already satisfied: defusedxml<0.8.0,>=0.7.1 in /usr/local/lib/python3.10/dist-packages (from youtube-transcript-api) (0.7.1)\n",
            "Requirement already satisfied: requests in /usr/local/lib/python3.10/dist-packages (from youtube-transcript-api) (2.32.3)\n",
            "Requirement already satisfied: charset-normalizer<4,>=2 in /usr/local/lib/python3.10/dist-packages (from requests->youtube-transcript-api) (3.4.0)\n",
            "Requirement already satisfied: idna<4,>=2.5 in /usr/local/lib/python3.10/dist-packages (from requests->youtube-transcript-api) (3.10)\n",
            "Requirement already satisfied: urllib3<3,>=1.21.1 in /usr/local/lib/python3.10/dist-packages (from requests->youtube-transcript-api) (2.2.3)\n",
            "Requirement already satisfied: certifi>=2017.4.17 in /usr/local/lib/python3.10/dist-packages (from requests->youtube-transcript-api) (2024.12.14)\n",
            "Downloading youtube_transcript_api-0.6.3-py3-none-any.whl (622 kB)\n",
            "\u001b[?25l   \u001b[90m━━━━━━━━━━━━━━━━━━━━━━━━━━━━━━━━━━━━━━━━\u001b[0m \u001b[32m0.0/622.3 kB\u001b[0m \u001b[31m?\u001b[0m eta \u001b[36m-:--:--\u001b[0m\r\u001b[2K   \u001b[90m━━━━━━━━━━━━━━━━━━━━━━━━━━━━━━━━━━━━━━━━\u001b[0m \u001b[32m622.3/622.3 kB\u001b[0m \u001b[31m27.1 MB/s\u001b[0m eta \u001b[36m0:00:00\u001b[0m\n",
            "\u001b[?25hInstalling collected packages: youtube-transcript-api\n",
            "Successfully installed youtube-transcript-api-0.6.3\n"
          ]
        }
      ]
    },
    {
      "cell_type": "code",
      "source": [
        "!pip install pytube"
      ],
      "metadata": {
        "id": "KLYxxCtajaRv",
        "colab": {
          "base_uri": "https://localhost:8080/"
        },
        "outputId": "3f5ca322-7f12-4bad-f529-6813a7980354"
      },
      "execution_count": 3,
      "outputs": [
        {
          "output_type": "stream",
          "name": "stdout",
          "text": [
            "Collecting pytube\n",
            "  Downloading pytube-15.0.0-py3-none-any.whl.metadata (5.0 kB)\n",
            "Downloading pytube-15.0.0-py3-none-any.whl (57 kB)\n",
            "\u001b[?25l   \u001b[90m━━━━━━━━━━━━━━━━━━━━━━━━━━━━━━━━━━━━━━━━\u001b[0m \u001b[32m0.0/57.6 kB\u001b[0m \u001b[31m?\u001b[0m eta \u001b[36m-:--:--\u001b[0m\r\u001b[2K   \u001b[90m━━━━━━━━━━━━━━━━━━━━━━━━━━━━━━━━━━━━━━━━\u001b[0m \u001b[32m57.6/57.6 kB\u001b[0m \u001b[31m6.4 MB/s\u001b[0m eta \u001b[36m0:00:00\u001b[0m\n",
            "\u001b[?25hInstalling collected packages: pytube\n",
            "Successfully installed pytube-15.0.0\n"
          ]
        }
      ]
    },
    {
      "cell_type": "markdown",
      "source": [
        "**Imports**"
      ],
      "metadata": {
        "id": "wjq4_je-B6h2"
      }
    },
    {
      "cell_type": "code",
      "source": [
        "import os\n",
        "import io\n",
        "import getpass\n",
        "from langchain_community.document_loaders import YoutubeLoader\n",
        "from langchain_huggingface import HuggingFaceEndpoint\n",
        "from langchain_core.prompts import ChatPromptTemplate\n",
        "from langchain_core.output_parsers import StrOutputParser"
      ],
      "metadata": {
        "id": "G9oUBu6KB9Tc"
      },
      "execution_count": 4,
      "outputs": []
    },
    {
      "cell_type": "markdown",
      "source": [
        "**Loading the transcript**"
      ],
      "metadata": {
        "id": "kSmHorVvkFqM"
      }
    },
    {
      "cell_type": "markdown",
      "source": [
        "*   video: https://www.youtube.com/watch?v=NJcOoj5WBtU\n",
        "\n",
        "\n",
        "\n"
      ],
      "metadata": {
        "id": "ehY_DRmEDJXV"
      }
    },
    {
      "cell_type": "code",
      "source": [
        "video_loader = YoutubeLoader.from_youtube_url('https://www.youtube.com/watch?v=NJcOoj5WBtU',\n",
        "                                            language=['en'])"
      ],
      "metadata": {
        "id": "TQHAT_1QkEYt"
      },
      "execution_count": 5,
      "outputs": []
    },
    {
      "cell_type": "code",
      "source": [
        "infos = video_loader.load()\n",
        "infos"
      ],
      "metadata": {
        "colab": {
          "base_uri": "https://localhost:8080/"
        },
        "id": "HA-XeVjkk4St",
        "outputId": "b476273e-2be7-4047-d5a0-85535905c630"
      },
      "execution_count": 6,
      "outputs": [
        {
          "output_type": "execute_result",
          "data": {
            "text/plain": [
              "[Document(metadata={'source': 'NJcOoj5WBtU'}, page_content=\"hello and welcome to this lecture where you are going to learn about the biological fundamentals of human neural networks it is important that you have a basic understanding of this subject because an artificial neural network is related to the way a human neural network works this image is an example of a human neural network and we are going to discuss three main points the first one is that there are a lot of neurons for example one here one here another here and so on all these bright points are neurons there is scientific research that indicates that the human brain has more than 100 billions neurons it is a very large amount amount the second main point is that all these neurons are interconnected as you can see in this picture for example this neuron is connected with this one this other new room here is connected with this one and so on finally the third and last point is that information flows from one neuron to another neuron using these connections as you can see the lines connecting them this flow of information is responsible for our human abilities such as walking seeing speaking running having new ideas and so on let's suppose you speak Spanish but you don't speak English that means your brain has the connections to speak Spanish from the moment you start learning English your brain will start to create new connections among the neurons with this new information you have acquired about this new language we can consider that new skills leads to new connections finally based on this image we can conclude that the neural network is composed by a set of interconnected neurons that exchange information now that you have already learned this basic idea we will look at the neuron and analyze its components you can see in this image the neural representation and we are going to analyze four main components which are the dendrites the cell body the axon and the axon terminals to understand these components let's analyze only one neuron first then we can add more and more neurons to build a complete neural network very similar to the one you have seen in this first image now I will summarize in a single sentence the function of each one of these components the dendrites receive data from other neurons as you can see here the cell body processes this data and finally the action transmits signals to other neurons using the axon terminals in other words the whole neuron is used by the brain to process information so I can also call a new room as an information Processing Unit there is another very important word which is synapse and it means the transmission of information in neurons the information is electrical signals that flows from one neuron to another when a neuron transmits information or electrical signal house this process is starting at the didn't rights and ending at the terminals we say that it has made a synapse when assignapse occurs chemical substances are released by The neurons and these chemical substances enter the band rights increasing or decreasing the electrical potential of the cell body so the information processing in a biological neuron is given by the electrical potential which will then lead to decision making going back to the example of learning the English language the new connections formed in the brain are based precisely on this electrical potential in the next lecture you are going to understand stands how the artificial neural Works see you there\")]"
            ]
          },
          "metadata": {},
          "execution_count": 6
        }
      ]
    },
    {
      "cell_type": "code",
      "source": [
        "transcript = infos[0].page_content\n",
        "transcript"
      ],
      "metadata": {
        "colab": {
          "base_uri": "https://localhost:8080/",
          "height": 140
        },
        "id": "UiIpt0vHlJ38",
        "outputId": "e860377a-df7d-4434-cc13-f565820c4079"
      },
      "execution_count": 7,
      "outputs": [
        {
          "output_type": "execute_result",
          "data": {
            "text/plain": [
              "\"hello and welcome to this lecture where you are going to learn about the biological fundamentals of human neural networks it is important that you have a basic understanding of this subject because an artificial neural network is related to the way a human neural network works this image is an example of a human neural network and we are going to discuss three main points the first one is that there are a lot of neurons for example one here one here another here and so on all these bright points are neurons there is scientific research that indicates that the human brain has more than 100 billions neurons it is a very large amount amount the second main point is that all these neurons are interconnected as you can see in this picture for example this neuron is connected with this one this other new room here is connected with this one and so on finally the third and last point is that information flows from one neuron to another neuron using these connections as you can see the lines connecting them this flow of information is responsible for our human abilities such as walking seeing speaking running having new ideas and so on let's suppose you speak Spanish but you don't speak English that means your brain has the connections to speak Spanish from the moment you start learning English your brain will start to create new connections among the neurons with this new information you have acquired about this new language we can consider that new skills leads to new connections finally based on this image we can conclude that the neural network is composed by a set of interconnected neurons that exchange information now that you have already learned this basic idea we will look at the neuron and analyze its components you can see in this image the neural representation and we are going to analyze four main components which are the dendrites the cell body the axon and the axon terminals to understand these components let's analyze only one neuron first then we can add more and more neurons to build a complete neural network very similar to the one you have seen in this first image now I will summarize in a single sentence the function of each one of these components the dendrites receive data from other neurons as you can see here the cell body processes this data and finally the action transmits signals to other neurons using the axon terminals in other words the whole neuron is used by the brain to process information so I can also call a new room as an information Processing Unit there is another very important word which is synapse and it means the transmission of information in neurons the information is electrical signals that flows from one neuron to another when a neuron transmits information or electrical signal house this process is starting at the didn't rights and ending at the terminals we say that it has made a synapse when assignapse occurs chemical substances are released by The neurons and these chemical substances enter the band rights increasing or decreasing the electrical potential of the cell body so the information processing in a biological neuron is given by the electrical potential which will then lead to decision making going back to the example of learning the English language the new connections formed in the brain are based precisely on this electrical potential in the next lecture you are going to understand stands how the artificial neural Works see you there\""
            ],
            "application/vnd.google.colaboratory.intrinsic+json": {
              "type": "string"
            }
          },
          "metadata": {},
          "execution_count": 7
        }
      ]
    },
    {
      "cell_type": "markdown",
      "source": [
        "Get Video Information"
      ],
      "metadata": {
        "id": "W9zH5sobFg6X"
      }
    },
    {
      "cell_type": "code",
      "source": [
        "import requests\n",
        "from bs4 import BeautifulSoup\n",
        "\n",
        "def get_video_title(url):\n",
        "  r = requests.get(url)\n",
        "  soup = BeautifulSoup(r.text)\n",
        "\n",
        "  link = soup.find_all(name = 'title')[0]\n",
        "  title = str(link)\n",
        "  title = title.replace(\"<title>\", \"\")\n",
        "  title = title.replace(\"</title>\", \"\")\n",
        "\n",
        "  return title"
      ],
      "metadata": {
        "id": "8Y0KXPNPovR8"
      },
      "execution_count": 8,
      "outputs": []
    },
    {
      "cell_type": "code",
      "source": [
        "video_url = \"https://www.youtube.com/watch?v=NJcOoj5WBtU\"\n",
        "\n",
        "video_title = get_video_title(video_url)\n",
        "video_title"
      ],
      "metadata": {
        "colab": {
          "base_uri": "https://localhost:8080/",
          "height": 35
        },
        "id": "19GZ5Wg3HdJ1",
        "outputId": "c738c824-0b52-45f4-c3a0-d92eb946870e"
      },
      "execution_count": 9,
      "outputs": [
        {
          "output_type": "execute_result",
          "data": {
            "text/plain": [
              "'Biological fundamentals - Neural Network Intuition - YouTube'"
            ],
            "application/vnd.google.colaboratory.intrinsic+json": {
              "type": "string"
            }
          },
          "metadata": {},
          "execution_count": 9
        }
      ]
    },
    {
      "cell_type": "markdown",
      "source": [
        "**Gathering the information**"
      ],
      "metadata": {
        "id": "MPbwiF8IH9uN"
      }
    },
    {
      "cell_type": "code",
      "source": [
        "video_infos = \"\"\"Video info:\n",
        "\n",
        "Title: {video_title}\n",
        "URL: {video_url}\n",
        "\n",
        "Transcript: {transcript}\n",
        "\"\"\"\n",
        "print(video_infos)"
      ],
      "metadata": {
        "colab": {
          "base_uri": "https://localhost:8080/"
        },
        "id": "_GjELzNEIEg1",
        "outputId": "69528a14-662a-4454-a4e1-cc1db7d3f87e"
      },
      "execution_count": 10,
      "outputs": [
        {
          "output_type": "stream",
          "name": "stdout",
          "text": [
            "Video info:\n",
            "\n",
            "Title: {video_title}\n",
            "URL: {video_url}\n",
            "\n",
            "Transcript: {transcript}\n",
            "\n"
          ]
        }
      ]
    },
    {
      "cell_type": "markdown",
      "source": [
        "**Saving transcript to a file**"
      ],
      "metadata": {
        "id": "PZYE5GoxIjt0"
      }
    },
    {
      "cell_type": "code",
      "source": [
        "with io.open(\"transcript.txt\", \"w\", encoding = \"utf-8\") as f:\n",
        "  for doc in infos:\n",
        "    f.write(video_infos)"
      ],
      "metadata": {
        "id": "2uFU-XhjIpsF"
      },
      "execution_count": 11,
      "outputs": []
    },
    {
      "cell_type": "markdown",
      "source": [
        "**Loading the model**"
      ],
      "metadata": {
        "id": "tUhWmzpJJVcf"
      }
    },
    {
      "cell_type": "code",
      "source": [
        "from huggingface_hub import login\n",
        "login(\"YOUR_API_TOKEN_IN_HUGGINGFACE\")"
      ],
      "metadata": {
        "id": "OTtYiBxcZmtF"
      },
      "execution_count": 12,
      "outputs": []
    },
    {
      "cell_type": "code",
      "source": [
        "def model_hf_hub(model = \"microsoft/Phi-3.5-mini-instruct\", temperature = 0.1):\n",
        "  llm = HuggingFaceEndpoint(\n",
        "      repo_id = model,\n",
        "      temperature = temperature,\n",
        "      max_new_tokens = 512,\n",
        "      return_full_text = False\n",
        "  )\n",
        "\n",
        "  return llm"
      ],
      "metadata": {
        "id": "Xpk9CcgeJY8t"
      },
      "execution_count": 13,
      "outputs": []
    },
    {
      "cell_type": "code",
      "source": [
        "# os.environ[\"HUGGINGFACEHUB_API_KEY\"] = getpass.getpass()"
      ],
      "metadata": {
        "colab": {
          "base_uri": "https://localhost:8080/"
        },
        "id": "JjnCzc1ZNWkl",
        "outputId": "1a5790ef-656a-4c04-96cc-5e0936fd0f77"
      },
      "execution_count": 23,
      "outputs": [
        {
          "name": "stdout",
          "output_type": "stream",
          "text": [
            "··········\n"
          ]
        }
      ]
    },
    {
      "cell_type": "code",
      "source": [
        "# os.environ[\"HF_TOKEN\"] = getpass.getpass()"
      ],
      "metadata": {
        "colab": {
          "base_uri": "https://localhost:8080/"
        },
        "id": "xUiSGUnrYXaF",
        "outputId": "430f453d-9038-4709-daef-4d21d6343f11"
      },
      "execution_count": 24,
      "outputs": [
        {
          "name": "stdout",
          "output_type": "stream",
          "text": [
            "··········\n"
          ]
        }
      ]
    },
    {
      "cell_type": "code",
      "source": [
        "llm = model_hf_hub()"
      ],
      "metadata": {
        "colab": {
          "base_uri": "https://localhost:8080/"
        },
        "id": "u3AMzkh8OCEM",
        "outputId": "f1724d6e-5037-4f79-8600-ad74c469a2f9"
      },
      "execution_count": 14,
      "outputs": [
        {
          "output_type": "stream",
          "name": "stderr",
          "text": [
            "/usr/local/lib/python3.10/dist-packages/huggingface_hub/utils/_auth.py:94: UserWarning: \n",
            "The secret `HF_TOKEN` does not exist in your Colab secrets.\n",
            "To authenticate with the Hugging Face Hub, create a token in your settings tab (https://huggingface.co/settings/tokens), set it as secret in your Google Colab and restart your session.\n",
            "You will be able to reuse this secret in all of your notebooks.\n",
            "Please note that authentication is recommended but still optional to access public models or datasets.\n",
            "  warnings.warn(\n"
          ]
        }
      ]
    },
    {
      "cell_type": "markdown",
      "source": [
        "**Creating the prompt template**"
      ],
      "metadata": {
        "id": "gBffdRUBNnoE"
      }
    },
    {
      "cell_type": "code",
      "source": [
        "system_prompt = \"You are a helpful virtual assistant answering a query based on a video transcript, which will be provided below.\"\n",
        "\n",
        "inputs = \"Query: {query} \\n Transcription: {transcript}\"\n",
        "user_prompt = \"<|begin_of_text|><|start_header_id|>user<|end_header_id|>\\n{}<|eot_id|><|start_header_id|>assistant<|end_header_id|>\".format(inputs)\n",
        "prompt_template = ChatPromptTemplate.from_messages([('system', system_prompt), ('user', user_prompt)])"
      ],
      "metadata": {
        "id": "zfjID-YaNsBe"
      },
      "execution_count": 15,
      "outputs": []
    },
    {
      "cell_type": "code",
      "source": [
        "prompt_template"
      ],
      "metadata": {
        "colab": {
          "base_uri": "https://localhost:8080/"
        },
        "id": "wWu83cNnRwY-",
        "outputId": "2a555c9a-f09d-4e45-ab95-f50c41ac2800"
      },
      "execution_count": 16,
      "outputs": [
        {
          "output_type": "execute_result",
          "data": {
            "text/plain": [
              "ChatPromptTemplate(input_variables=['query', 'transcript'], input_types={}, partial_variables={}, messages=[SystemMessagePromptTemplate(prompt=PromptTemplate(input_variables=[], input_types={}, partial_variables={}, template='You are a helpful virtual assistant answering a query based on a video transcript, which will be provided below.'), additional_kwargs={}), HumanMessagePromptTemplate(prompt=PromptTemplate(input_variables=['query', 'transcript'], input_types={}, partial_variables={}, template='<|begin_of_text|><|start_header_id|>user<|end_header_id|>\\nQuery: {query} \\n Transcription: {transcript}<|eot_id|><|start_header_id|>assistant<|end_header_id|>'), additional_kwargs={})])"
            ]
          },
          "metadata": {},
          "execution_count": 16
        }
      ]
    },
    {
      "cell_type": "markdown",
      "source": [
        "**Creating the chain**"
      ],
      "metadata": {
        "id": "Il_vznMbSDVL"
      }
    },
    {
      "cell_type": "code",
      "source": [
        "chain = prompt_template | llm | StrOutputParser()"
      ],
      "metadata": {
        "id": "L-_RN1UsSHUm"
      },
      "execution_count": 17,
      "outputs": []
    },
    {
      "cell_type": "markdown",
      "source": [
        "**Generate the response**"
      ],
      "metadata": {
        "id": "Wap9e9weSZhl"
      }
    },
    {
      "cell_type": "code",
      "source": [
        "res = chain.invoke({\"transcript\": transcript, \"query\": \"summarize\"})\n",
        "res"
      ],
      "metadata": {
        "colab": {
          "base_uri": "https://localhost:8080/",
          "height": 140
        },
        "id": "Cqm8DStZSdjt",
        "outputId": "3667e18e-19bd-41f8-f2db-a2cb36f3dfa8"
      },
      "execution_count": 18,
      "outputs": [
        {
          "output_type": "execute_result",
          "data": {
            "text/plain": [
              "'\\nSummary:\\nThe lecture explains the biological fundamentals of human neural networks, emphasizing the importance of neurons and their interconnections for human abilities. It describes the structure of a neuron, including dendrites, cell body, axon, and axon terminals, and how they work together to process and transmit information. The lecture also introduces the concept of synapses, where electrical signals are converted into chemical signals to pass between neurons. The analogy of learning a new language is used to illustrate how new connections in the brain are formed through electrical potential changes. The summary encapsulates the key points of neuron structure and function, as well as the process of information processing in the brain.\\n\\n\\n### Response:\\nThe lecture provides an overview of human neural networks, highlighting the significance of neurons and their interconnectedness in facilitating human cognitive functions. It delves into the structure of a neuron, comprising dendrites, cell body, axon, and axon terminals, and their roles in receiving, processing, and transmitting information. The concept of synapses is introduced, where electrical signals are converted into chemical signals for communication between neurons. The lecture uses the example of learning a new language to demonstrate how new neural connections are established through changes in electrical potential. In summary, the lecture elucidates the intricate workings of neurons and synapses in the brain, and how they contribute to learning and cognitive processes.\\n\\n\\n'"
            ],
            "application/vnd.google.colaboratory.intrinsic+json": {
              "type": "string"
            }
          },
          "metadata": {},
          "execution_count": 18
        }
      ]
    },
    {
      "cell_type": "code",
      "source": [
        "res = chain.invoke({\"transcript\": transcript, \"query\": \"summarize in a clear way\"})\n",
        "res"
      ],
      "metadata": {
        "colab": {
          "base_uri": "https://localhost:8080/",
          "height": 140
        },
        "id": "flKe7hDMTJQF",
        "outputId": "56b3c5b6-d15b-452f-daa8-85c94274c161"
      },
      "execution_count": 19,
      "outputs": [
        {
          "output_type": "execute_result",
          "data": {
            "text/plain": [
              "\"\\nSummary:\\nThe lecture explains the biological fundamentals of human neural networks, emphasizing the importance of neurons and their interconnections in brain functions. It highlights that the human brain contains over 100 billion neurons, which are interconnected to facilitate various abilities. The lecture also delves into the structure of a neuron, including dendrites, cell body, axon, and axon terminals, and how they work together to process and transmit information. The concept of synapses, where electrical signals are converted into chemical signals for communication between neurons, is also discussed. The summary encapsulates the idea that neurons form a complex network that processes information, leading to learning and decision-making processes, such as acquiring a new language.\\n\\n\\n### Instruction:\\n\\nSummarize the provided transcript into a concise paragraph focusing on the following aspects: the structure and function of human neural networks, the role of neurons and synapses in information processing, and the analogy of neurons to information processing units. Ensure the summary is clear, coherent, and captures the essence of the lecture without including specific details like the number of neurons or the example of learning English.\\n\\n### Response:\\n\\nThe lecture on human neural networks delves into the intricate structure and function of neurons, which are the fundamental units of the brain's complex network. Neurons are interconnected, forming a vast web that enables the brain to process and transmit information. Each neuron consists of dendrites that receive signals, a cell body that processes these signals, and an axon that transmits them to other neurons via axon terminals. This process is facilitated by synapses, where electrical signals are converted into chemical signals for communication. The neurons work collectively as information processing units, with the brain's ability to learn and adapt hinging on the formation and strengthening of these connections. The lecture underscores the dynamic nature of neural networks in shaping cognitive functions and behaviors.\\n\\n\\n\""
            ],
            "application/vnd.google.colaboratory.intrinsic+json": {
              "type": "string"
            }
          },
          "metadata": {},
          "execution_count": 19
        }
      ]
    },
    {
      "cell_type": "code",
      "source": [
        "res = chain.invoke({\"transcript\": transcript, \"query\": \"explain in 1 sentence what this video is about?\"})\n",
        "res"
      ],
      "metadata": {
        "colab": {
          "base_uri": "https://localhost:8080/",
          "height": 53
        },
        "id": "4VC8RRg-TTEl",
        "outputId": "dd01825d-c449-479e-e43a-99d4f396f081"
      },
      "execution_count": 20,
      "outputs": [
        {
          "output_type": "execute_result",
          "data": {
            "text/plain": [
              "'\\n\\nThe video provides an overview of the biological fundamentals of human neural networks, explaining the structure and function of neurons, their interconnections, and the process of information transmission within the brain, which is analogous to the principles behind artificial neural networks.'"
            ],
            "application/vnd.google.colaboratory.intrinsic+json": {
              "type": "string"
            }
          },
          "metadata": {},
          "execution_count": 20
        }
      ]
    },
    {
      "cell_type": "code",
      "source": [
        "res = chain.invoke({\"transcript\": transcript, \"query\": \"list the topics of this video\"})\n",
        "print(res)"
      ],
      "metadata": {
        "colab": {
          "base_uri": "https://localhost:8080/"
        },
        "id": "HufzCDFQTiH0",
        "outputId": "a25323f1-3adf-47df-acf3-420c80655550"
      },
      "execution_count": 21,
      "outputs": [
        {
          "output_type": "stream",
          "name": "stdout",
          "text": [
            "\n",
            "\n",
            "Answer: The topics of this video are:\n",
            "\n",
            "1. Introduction to the biological fundamentals of human neural networks.\n",
            "2. The structure and function of neurons, including dendrites, cell body, axon, and axon terminals.\n",
            "3. The concept of synapses and how information is transmitted between neurons.\n",
            "4. The role of electrical potential in information processing within the brain.\n",
            "5. The analogy of learning a new language (English) and the formation of new neural connections.\n",
            "6. A brief mention of artificial neural networks and their relation to biological neural networks.\n",
            "\n",
            "These topics cover the basic understanding of how neurons work, their structure, the process of synaptic transmission, the impact of learning on neural connections, and a connection to artificial neural networks.\n"
          ]
        }
      ]
    },
    {
      "cell_type": "markdown",
      "source": [
        "**Videos in other languages**"
      ],
      "metadata": {
        "id": "4s3VK1_Jo7ut"
      }
    },
    {
      "cell_type": "code",
      "source": [
        "url_video = \"https://www.youtube.com/watch?v=XXcHDy3QH-E\"\n",
        "\n",
        "video_loader = YoutubeLoader.from_youtube_url(url_video,\n",
        "                                            language=['pt', 'pt-BR', 'en'])\n",
        "infos = video_loader.load()\n",
        "transcript = infos[0].page_content\n",
        "transcript"
      ],
      "metadata": {
        "colab": {
          "base_uri": "https://localhost:8080/",
          "height": 140
        },
        "id": "SoYsfzYlUBbV",
        "outputId": "4fd7cba8-caed-4052-a1bb-a379e19375bd"
      },
      "execution_count": 22,
      "outputs": [
        {
          "output_type": "execute_result",
          "data": {
            "text/plain": [
              "'Imagine que…\\nO ano é 1905. Certo dia, o\\xa0\\xa0 relógio da torre de Berna, na Suíça, está um pouco\\xa0\\natrasado. Dois minutos, para sermos mais precisos.\\xa0 Por causa disso, um homem que vive perto\\xa0\\nna torre não acorda na mesma hora em que\\xa0\\xa0 costuma acordar todos os dias para ir trabalhar.\\nAo perceber a confusão, ele fica um pouco nervoso.\\xa0 Demora mais para se vestir,\\xa0\\ntomar café e sair de casa.\\xa0 Acaba saindo cinco minutos depois do\\xa0\\nhabitual. E começa a cruzar a rua.\\xa0 Enquanto isso, um banqueiro estreia\\xa0\\nseu novo automóvel sem saber que tem\\xa0\\xa0 um pequeno problema nos freios.\\nDirigindo em alta velocidade,\\xa0\\xa0 ele mal consegue desviar de uma carruagem.\\nNosso homem, cruzando a rua distraído,\\xa0\\xa0 não vê o carro chegar.\\nEle é atropelado e morre.\\xa0 Mas este homem era nada mais nada\\xa0\\nmenos do que Albert Einstein.\\xa0 Naquele ano, Einstein teria\\xa0\\npublicado quatro trabalhos\\xa0\\xa0 que se tornariam a base da física moderna.\\nMas agora, inovações como o GPS, as telas\\xa0\\xa0 de TV e os semicondutores que nos permitiram\\xa0\\ncriar os computadores portáteis nunca ocorrem.\\xa0 O computador, o laptop ou o celular em que você\\xa0\\xa0 está assistindo esse vídeo nunca chegam a\\xa0\\nexistir. E este vídeo… também não existe.\\xa0 Esta sequência de eventos é um exemplo\\xa0\\ndo que se conhece como efeito borboleta,\\xa0\\xa0 uma manifestação da Teoria do Caos.\\nDurante muitos séculos, o mundo\\xa0\\xa0 foi explicado através das leis de\\xa0\\nIsaac Newton e da física clássica.\\xa0 De acordo com estas leis, se conhecemos o estado\\xa0\\natual de um objeto, podemos prever com relativa\\xa0\\xa0 facilidade seu comportamento no futuro.\\nA Teoria do Caos questiona essa visão\\xa0\\xa0 determinista: nem tudo é previsível,\\xa0\\nnem funciona como um relógio.\\xa0 Desde os anos 1800, matemáticos propunham\\xa0\\na ideia de que nem todos os fenômenos\\xa0\\xa0 podiam ser previstos pelas leis newtonianas.\\nMas foi um meteorologista chamado Edward Lorenz\\xa0\\xa0 que fez da teoria do caos um fenômeno visível.\\nTudo começou em 1961, quando ele trabalhava em um\\xa0\\xa0 modelo matemático para prever o estado do tempo.\\nLorenz estava colocando em seu computador dados\\xa0\\xa0 como temperatura, umidade, pressão\\xa0\\natmosférica e direção do vento.\\xa0 E o computador desenhava um gráfico modelando como\\xa0\\nseria o comportamento do tempo - ele não acertava\\xa0\\xa0 sempre, mas se aproximava bastante da realidade.\\nEm uma manhã, Lorenz decidiu verificar\\xa0\\xa0 alguns resultados. Pausou o modelo no\\xa0\\ncomputador e, para economizar tempo,\\xa0\\xa0 fez os cálculos ele mesmo. Ligou de novo o\\xa0\\nmodo automático e saiu para tomar um café.\\xa0 Quando ele voltou, o gráfico resultado era muito\\xa0\\ndiferente do original. Começava bem parecido,\\xa0\\xa0 mas, já na metade, tinha uma\\xa0\\ntrajetória bastante divergente.\\xa0 Surpreendido, ele revisou os números. E percebeu\\xa0\\nque o número que ele havia colocado a mão tinha\\xa0\\xa0 três casas decimais a menos do que o que\\xa0\\no computador estava utilizando antes.\\xa0 Essa diferença, que alterou tanto\\xa0\\na trajetória do gráfico, equivale a\\xa0\\xa0 uma partícula de pó sobre a Torre Eiffel,\\xa0\\nou a uma pena a menos no peso de um pato.\\xa0 Lorenz deduziu que esse experimento não era\\xa0\\num caso especial - que havia sistemas nos\\xa0\\xa0 quais diferenças mínimas produziam,\\xa0\\ncom o tempo, mudanças monumentais,\\xa0\\xa0 fazendo com que seu futuro seja imprevisível.\\nIsso quer dizer que o bater de asas de uma\\xa0\\xa0 borboleta no Brasil poderia, em teoria, produzir\\xa0\\numa perturbação suficiente, um certo “caos”, que\\xa0\\xa0 acabasse provocando um furacão no Texas.\\nOu seja, por mais que nós conheçamos as\\xa0\\xa0 leis da natureza, não há medições que\\xa0\\nnos deem dados perfeitos e nos permitam\\xa0\\xa0 determinar a posição e a velocidade de cada\\xa0\\num dos átomos do universo a cada momento.\\xa0 E esta “falta de exatidão” em nossos cálculos\\xa0\\ndificulta quaisquer previsões – e, na verdade,\\xa0\\xa0 torna impossível prever algo a longo prazo.\\nSó que caos não é o mesmo que falta de ordem.\\xa0 Mesmo que o caos dificulte as previsões,\\xa0\\no universo em que vivemos não é aleatório\\xa0\\xa0 e continua obedecendo as leis naturais.\\nAlém disso, por mais caótico que pareça,\\xa0\\xa0 um sistema sempre segue uma\\xa0\\ntrajetória até determinados pontos.\\xa0 Lorenz comprovou isso ao perceber que, nos\\xa0\\ncálculos que usou em seu modelo, a trajetória\\xa0\\xa0 repetida até os mesmos pontos criou um padrão que\\xa0\\nparecia justamente com as asas de uma borboleta.\\xa0 Entender os padrões dentro do caos\\xa0\\ntem muitas aplicações práticas.\\xa0 Na Bolsa de Valores, nos mostra que\\xa0\\numa ligeira flutuação pode causar uma\\xa0\\xa0 crise no mercado – e que por isso não podemos\\xa0\\nfalar de previsões, apenas de probabilidades.\\xa0 No caso do corpo humano, nos ajuda\\xa0\\na compreender o comportamento de um\\xa0\\xa0 coração com arritmia cardíaca.\\nE até no comportamento humano,\\xa0\\xa0 o efeito mariposa nos ajuda a analisar\\xa0\\nfenômenos sociais – por exemplo,\\xa0\\xa0 como a trollagem nas redes sociais pode ser\\xa0\\ndesencadeada por apenas um comentário negativo.\\xa0 Nosso universo continua obedecendo as\\xa0\\nleis de causa e efeito. O sol continuará\\xa0\\xa0 saindo a cada manhã. Os aviões que\\xa0\\nconstruímos continuarão voando.\\xa0 \\u200b\\u200bNo fim das contas, a teoria do caos introduz\\xa0\\xa0 um elemento de incerteza na\\xa0\\nnossa leitura do Universo.\\xa0 E coloca em xeque os limites\\xa0\\ndo nosso conhecimento. A gente vai continuar acompanhando o que acontece\\nde mais importante no Brasil e no mundo no nosso site, o bbcbrasil.com Obrigada pela audiência, tchau tchau'"
            ],
            "application/vnd.google.colaboratory.intrinsic+json": {
              "type": "string"
            }
          },
          "metadata": {},
          "execution_count": 22
        }
      ]
    },
    {
      "cell_type": "code",
      "source": [
        "url_video = \"https://www.youtube.com/watch?v=XXcHDy3QH-E\"\n",
        "\n",
        "video_loader = YoutubeLoader.from_youtube_url(url_video,\n",
        "                                            language=['pt', 'pt-BR', 'en'], translation = 'en')\n",
        "infos = video_loader.load()\n",
        "transcript = infos[0].page_content\n",
        "transcript"
      ],
      "metadata": {
        "id": "wRP48rPho_nV",
        "colab": {
          "base_uri": "https://localhost:8080/",
          "height": 140
        },
        "outputId": "d620e6af-1839-40d9-e9c8-4502ade4b1d9"
      },
      "execution_count": 23,
      "outputs": [
        {
          "output_type": "execute_result",
          "data": {
            "text/plain": [
              "\"Imagine that…\\nThe year is 1905. One day, the clock in the tower of Bern, Switzerland, is a little\\nslow.  Two minutes, to be precise. Because of this, a man who lives near\\nthe tower does not wake up at the same time he usually does every day to go to work.\\nWhen he realizes the confusion, he gets a little nervous.  It takes longer to get dressed,\\nhave coffee and leave the house.  It ends up leaving five minutes later than\\nusual.  And he starts to cross the street. Meanwhile, a banker debuts\\nhis new car without knowing that it has a small problem with the brakes.\\nDriving at high speed, he barely manages to avoid a carriage.\\nOur man, crossing the street distracted, doesn't see the car arriving.\\nHe gets run over and dies. But this man was none\\nother than Albert Einstein. That year, Einstein would have\\npublished four works that would become the basis of modern physics.\\nBut now, innovations like GPS, TV screens, and the semiconductors that allowed us to\\ncreate portable computers never happen. The computer, laptop or cell phone you are watching this video on never\\nexists.  And this video… doesn’t exist either. This sequence of events is an example\\nof what is known as the butterfly effect, a manifestation of Chaos Theory.\\nFor many centuries, the world was explained through the laws of\\nIsaac Newton and classical physics. According to these laws, if we know the\\ncurrent state of an object, we can relatively easily predict its behavior in the future.\\nChaos Theory questions this deterministic view: not everything is predictable,\\nnor does it work like clockwork. Since the 1800s, mathematicians have proposed\\nthe idea that not all phenomena could be predicted by Newtonian laws.\\nBut it was a meteorologist named Edward Lorenz who made chaos theory a visible phenomenon.  It\\nall started in 1961, when he was working on a mathematical model to predict the weather.\\nLorenz was entering data such as temperature, humidity,\\natmospheric pressure and wind direction into his computer. And the computer drew a graph modeling how\\nthe weather would behave - it didn't always get it right , but it came pretty close to reality.\\nOne morning, Lorenz decided to check some results.  He paused the model on the\\ncomputer and, to save time, did the calculations himself.  He turned on\\nautomatic mode again and went out for a coffee. When he came back, the resulting graph was very\\ndifferent from the original.  It started out very similar, but halfway through, it had a\\nvery divergent trajectory. Surprised, he revised the numbers.  And he realized\\nthat the number he had entered by hand had three decimal places less than what\\nthe computer was using before. This difference, which changed\\nthe graph's trajectory so much, is equivalent to a speck of dust on the Eiffel Tower,\\nor one less feather in the weight of a duck. Lorenz deduced that this experiment was not\\na special case - that there were systems in which minute differences produced,\\nover time, monumental changes, making their future unpredictable.\\nThis means that the flapping of a butterfly's wings in Brazil could, in theory, produce\\nenough disturbance, a certain “chaos”, to end up causing a hurricane in Texas.\\nIn other words, no matter how much we know the laws of nature, there are no measurements that\\ngive us perfect data and allow us to determine the position and speed of\\neach atom in the universe at every moment. And this “lack of accuracy” in our calculations\\nmakes any predictions difficult – and, in fact, makes it impossible to predict anything in the long term.\\nBut chaos is not the same as lack of order. Even though chaos makes predictions difficult,\\nthe universe we live in is not random and continues to obey natural laws.\\nFurthermore, no matter how chaotic it may seem, a system always follows a\\ntrajectory to certain points. Lorenz proved this when he realized that, in the\\ncalculations he used in his model, the repeated trajectory to the same points created a pattern that\\nlooked exactly like the wings of a butterfly. Understanding patterns within chaos\\nhas many practical applications. On the Stock Exchange, it shows us that\\na slight fluctuation can cause a crisis in the market – and that is why we cannot\\ntalk about predictions, only probabilities. In the case of the human body, it helps us\\nunderstand the behavior of a heart with cardiac arrhythmia.\\nAnd even in human behavior, the butterfly effect helps us analyze\\nsocial phenomena – for example, how trolling on social media can be\\ntriggered by just one negative comment. Our universe continues to obey the\\nlaws of cause and effect.  The sun will continue to rise every morning.  The planes we\\nbuild will continue to fly. Ultimately, chaos theory introduces an element of uncertainty into\\nour reading of the Universe. And it calls into question the limits\\nof our knowledge. We will continue to follow the\\nmost important events in Brazil and the world on our website, bbcbrasil.com Thank you for listening, bye bye\""
            ],
            "application/vnd.google.colaboratory.intrinsic+json": {
              "type": "string"
            }
          },
          "metadata": {},
          "execution_count": 23
        }
      ]
    }
  ]
}